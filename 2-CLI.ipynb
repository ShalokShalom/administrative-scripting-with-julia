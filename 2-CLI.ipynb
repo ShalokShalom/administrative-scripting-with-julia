{
 "cells": [
  {
   "cell_type": "markdown",
   "metadata": {},
   "source": [
    "# Command-Line Interfaces\n",
    "In order to write flexible, reusable scripts, one must get information from the user and also send it back to them. Hard codeing a bunch of global constants is no way to live!\n",
    "\n",
    "## `stdin`, `stdout` and `stderr`\n",
    "These are your standard streams. The reason I started with a section on files was so I could get to these babies. They are `IO` objects that every script starts with open, and they automatically close at the end. They aren't \"real\" files, but they give the same interfaces as files (besides `seek`). `stdin` is open for reading and both `stdout` and `stderr` are open for writing.\n",
    "\n",
    "As you probably know, you can send data to the `stdin` of a program by piping the output of another program to it.\n",
    "\n",
    "```bash\n",
    "$ ls / | grep \"b\"\n",
    "bin\n",
    "boot\n",
    "lib\n",
    "lib64\n",
    "sbin\n",
    "```\n",
    "\n",
    "You can also send data to `stdin` by using file redirection.\n",
    "\n",
    "```bash\n",
    "$ grep \"b\" < some_file\n",
    "...\n",
    "```\n",
    "\n",
    "From inside the script, this looks like any other IO object, and you can do whatever you need with the lines.\n",
    "\n",
    "```julia\n",
    "for line in eachline(stdin)\n",
    "    # do something\n",
    "end\n",
    "```\n",
    "\n",
    "However, the creators of Julia know that this is such a common case that both `readlines` and `eachline` default to using stdin. `eachline()` is identical to `eachline(stdin)`\n",
    "\n",
    "`stdout` is the easy one. You already know how to write to it: the `print` and `println` functions. You can also use `write`, of course, if you need to write binary data.\n",
    "\n",
    "`stderr` is exactly the same as stdout, but you'd explicitely state that you wanted things to go there: "
   ]
  },
  {
   "cell_type": "code",
   "execution_count": 1,
   "metadata": {},
   "outputs": [
    {
     "name": "stderr",
     "output_type": "stream",
     "text": [
      "things are real bad in this script\n"
     ]
    }
   ],
   "source": [
    "println(stderr, \"things are real bad in this script\")"
   ]
  },
  {
   "cell_type": "markdown",
   "metadata": {},
   "source": [
    "Normally, you want to send data to stdout that is suitable to be used by the stdin of another program (maybe `grep` or `sed`?), and `stderr` is for messages for the user about what's happening in the script (error messages, logging, debugging info). For more advanced logging, Julia provides a [Logging module](https://docs.julialang.org/en/v1/stdlib/Logging/) in the standard library."
   ]
  },
  {
   "cell_type": "markdown",
   "metadata": {},
   "source": [
    "## CLI Arguments\n",
    "\n",
    "Another important way to get information from your users is through command line arguments. As in most languages, you get an array of strings. Unlike many languages, the first item in this array is _not_ the name of the program. That's in a global variable called `PROGRAM_FILE`. That can also be useful, but we're just talking about the `ARGS` array for now.\n",
    "\n",
    "Here is a simple clone of `cp`:\n",
    "\n",
    "```julia\n",
    "# cp.jl\n",
    "\n",
    "function main()\n",
    "    dest = ARGS[end]\n",
    "    srcfiles = ARGS[1:end-1]\n",
    "    \n",
    "    if isdir(dest)\n",
    "        dest = joinpath.(dest, basename.(srcfiles))\n",
    "    end\n",
    "\n",
    "    cp.(srcfiles, dest)\n",
    "end\n",
    "\n",
    "main()\n",
    "```\n",
    "\n",
    "Which you would use like this :\n",
    "\n",
    "```bash\n",
    "$ julia cp.jl afile otherfile targetdir\n",
    "```\n",
    "\n",
    "We don't really need the main function here, it's just best practice to put everything besides constants inside of a function in Julia for performance reasons (globals are slow unless they are constants), and because it leads to more modular, reusable code.\n",
    "\n",
    "For more sophisticated argument parsing, two popular third-party modules are [ArgParse.jl](https://juliaobserver.com/packages/ArgParse) and [DocOpt.jl](https://juliaobserver.com/packages/DocOpt), which provide similar interfaces to the Python modules of the same names.\n",
    "\n",
    "> _Note on vectorizing functions_:\n",
    ">\n",
    "> If you're new to Julia, you might have trouble understanding a couple of lines:\n",
    ">\n",
    ">     dest = joinpath.(dest, basename.(srcfiles))\n",
    ">\n",
    "> and\n",
    ">\n",
    ">     cp.(srcfiles, dest)\n",
    ">\n",
    "> These lines make use of the Julia's [dot syntax for vectorizing functions](https://docs.julialang.org/en/v1/manual/functions/#man-vectorized-1) as an alternative to loops. In the first case, `srcfiles` is a vector of strings. `basename.(srcfiles)` returns an array of the basename of each path in `srcfiles`. It's the same as `[basename(s) for s in srcfiles]`. Each element in this array is then joined with the original `dest` directory for the full path. Because this operation contains nested dot operations, they are all _fused_ into a single loop for greater efficiency.\n",
    ">\n",
    "> Because `dest` can now either be a vector or a string, `cp.(srcfiles, dest)` can mean two different things: If `dest` is still a string, something like this happens:\n",
    ">\n",
    "> ```julia\n",
    "> for file in srcfiles\n",
    ">     cp(file, dest)\n",
    "> end\n",
    "> ```\n",
    ">\n",
    "> If dest has become a vector, however, it means this:\n",
    "> ```julia\n",
    "> for (file, target) in zip(srcfiles, dest)\n",
    ">     cp(file, target)\n",
    "> end\n",
    "> ```\n",
    ">\n",
    "> This is handy for our case because, no matter which type `dest` has in the end, the vectorized version will do the right thing!\n",
    ">\n",
    "> For more on the nuances of vectorizing functions, check out the documentation on [broadcasting](https://docs.julialang.org/en/v1/manual/arrays/#Broadcasting-1)"
   ]
  },
  {
   "cell_type": "markdown",
   "metadata": {},
   "source": [
    "## Environment Variables and Config Files\n",
    "\n",
    "Another way to get info from your user is from configuration settings. Though it is not the approach I prefer, one popular way to do this is using environment to variables store settings, which are exported in `~/.profile` or some other shell configuration file. In Julia, environment variables are stored in the `ENV` dictionary."
   ]
  },
  {
   "cell_type": "code",
   "execution_count": 2,
   "metadata": {},
   "outputs": [
    {
     "name": "stdout",
     "output_type": "stream",
     "text": [
      "var = \"SHELL\"\n",
      "ENV[var] = \"/usr/bin/zsh\"\n",
      "var = \"EDITOR\"\n",
      "ENV[var] = \"nvim\"\n",
      "var = \"USER\"\n",
      "ENV[var] = \"ninjaaron\"\n"
     ]
    }
   ],
   "source": [
    "for var in (\"SHELL\", \"EDITOR\", \"USER\")\n",
    "    @show var ENV[var]\n",
    "end"
   ]
  },
  {
   "cell_type": "markdown",
   "metadata": {},
   "source": [
    "I personally prefer to use config files over environment variables. [TOML](https://github.com/toml-lang/toml) seems to be what all the cool kids are using these days, and it's also used by Julia's built-in package manager, so that's probably not a bad choice. There is a \"secret\" TOML module in the standard library which is vendor by `Pkg`.\n",
    "\n",
    "You can get at it this way:"
   ]
  },
  {
   "cell_type": "code",
   "execution_count": 2,
   "metadata": {
    "scrolled": true
   },
   "outputs": [
    {
     "data": {
      "text/plain": [
       "parse (generic function with 3 methods)"
      ]
     },
     "execution_count": 2,
     "metadata": {},
     "output_type": "execute_result"
    }
   ],
   "source": [
    "import Pkg: TOML\n",
    "TOML.parse"
   ]
  },
  {
   "cell_type": "markdown",
   "metadata": {},
   "source": [
    "Because it's vendored*, it's probably considered an implementation detail and subject to disappear without notice. I don't know what the deal is. Anyway, the library they vendor can be found [here](https://github.com/wildart/TOML.jl). There are a couple other TOML libraries on juliaobserver.com. There are also a semi-official looking packages under the JuliaIO org on github called [ConfigParser.jl](https://github.com/JuliaIO/ConfParser.jl) That can deal with ini files a few other types. There is also a [JSON.jl](https://github.com/JuliaIO/JSON.jl). I'm pretty against using JSON for config files, but there it is.\n",
    "\n",
    "Next, were going to look at working with the [filesystem](3-filesystem.ipynb)."
    "\n",
    "* Note: in Julia 1.6, `TOML` will be part of the standard library, so this will no lonter apply."
   ]
  }
 ],
 "metadata": {
  "kernelspec": {
   "display_name": "Julia 1.1.1",
   "language": "julia",
   "name": "julia-1.1"
  },
  "language_info": {
   "file_extension": ".jl",
   "mimetype": "application/julia",
   "name": "julia",
   "version": "1.1.1"
  }
 },
 "nbformat": 4,
 "nbformat_minor": 2
}
